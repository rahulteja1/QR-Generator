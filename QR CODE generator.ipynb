{
 "cells": [
  {
   "cell_type": "code",
   "execution_count": 1,
   "id": "5440d9f3",
   "metadata": {},
   "outputs": [],
   "source": [
    "import qrcode"
   ]
  },
  {
   "cell_type": "code",
   "execution_count": 2,
   "id": "25ccf2b5",
   "metadata": {},
   "outputs": [],
   "source": [
    "# !pip install qrcode"
   ]
  },
  {
   "cell_type": "code",
   "execution_count": null,
   "id": "f0f6fbe6",
   "metadata": {},
   "outputs": [],
   "source": [
    "data = \"LINK\"\n",
    "qr = qrcode.QRCode(version =1, box_size=10, border=5)\n",
    "qr.add_data(data)\n",
    "qr.make(fit=True)"
   ]
  },
  {
   "cell_type": "code",
   "execution_count": null,
   "id": "f04525f6",
   "metadata": {},
   "outputs": [],
   "source": [
    "img = qr.make_image(fill_color = \"black\", back_color = \"white\")\n",
    "img.save(\"NAME_QR_myshop.png\")"
   ]
  },
  {
   "cell_type": "code",
   "execution_count": null,
   "id": "221a53d9",
   "metadata": {},
   "outputs": [],
   "source": []
  }
 ],
 "metadata": {
  "kernelspec": {
   "display_name": "Python 3",
   "language": "python",
   "name": "python3"
  },
  "language_info": {
   "codemirror_mode": {
    "name": "ipython",
    "version": 3
   },
   "file_extension": ".py",
   "mimetype": "text/x-python",
   "name": "python",
   "nbconvert_exporter": "python",
   "pygments_lexer": "ipython3",
   "version": "3.11.7"
  }
 },
 "nbformat": 4,
 "nbformat_minor": 5
}
